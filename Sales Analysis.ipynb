{
 "cells": [
  {
   "cell_type": "code",
   "execution_count": 1,
   "id": "df4a2299",
   "metadata": {},
   "outputs": [],
   "source": [
    "import pandas as pd\n",
    "import numpy as np\n",
    "import seaborn as sns\n",
    "import os\n",
    "import matplotlib\n",
    "import matplotlib.pyplot as plt\n",
    "plt.style.use('ggplot')\n",
    "from matplotlib.pyplot import figure\n",
    "\n",
    "%matplotlib inline\n",
    "matplotlib.rcParams['figure.figsize'] = (12,8)\n",
    "\n",
    "pd.options.mode.chained_assignment = None\n",
    "\n",
    "pd.options.display.float_format = '{:20,.2f}'.format\n"
   ]
  },
  {
   "cell_type": "markdown",
   "id": "d62c3d8e",
   "metadata": {},
   "source": [
    "Sales data is randomized. This was practice data that can be easily scaled to large data sets. While the complete data set can be easily manipulated in Excel or Google sheets, it is much quicker and scalable when adding more and more months. There are also functions used that are not as easily done with Excel. At the end I utilized python libraries ( itertools and combinations) to easily detect which items are often sold in pairs. "
   ]
  },
  {
   "cell_type": "markdown",
   "id": "5a09616a",
   "metadata": {},
   "source": [
    "Join all monthly Sales Files into singular File"
   ]
  },
  {
   "cell_type": "code",
   "execution_count": 2,
   "id": "32c6e283",
   "metadata": {},
   "outputs": [],
   "source": [
    "path = '"REMOVED'\n",
    "\n",
    "files = [file for file in os.listdir(path)]\n",
    "\n",
    "all_months = pd.DataFrame()\n",
    "\n",
    "\n",
    "for file in files:\n",
    "    df = pd.read_csv(path+file)\n",
    "    all_months = pd.concat([all_months,df])\n",
    "\n",
    "all_months.head()\n",
    "\n",
    "all_months.to_csv(\"all_sales.csv\", index=False)\n",
    "    \n",
    "    \n"
   ]
  },
  {
   "cell_type": "code",
   "execution_count": 3,
   "id": "325a419b",
   "metadata": {
    "scrolled": true
   },
   "outputs": [
    {
     "data": {
      "text/html": [
       "<div>\n",
       "<style scoped>\n",
       "    .dataframe tbody tr th:only-of-type {\n",
       "        vertical-align: middle;\n",
       "    }\n",
       "\n",
       "    .dataframe tbody tr th {\n",
       "        vertical-align: top;\n",
       "    }\n",
       "\n",
       "    .dataframe thead th {\n",
       "        text-align: right;\n",
       "    }\n",
       "</style>\n",
       "<table border=\"1\" class=\"dataframe\">\n",
       "  <thead>\n",
       "    <tr style=\"text-align: right;\">\n",
       "      <th></th>\n",
       "      <th>Order ID</th>\n",
       "      <th>Product</th>\n",
       "      <th>Quantity Ordered</th>\n",
       "      <th>Price Each</th>\n",
       "      <th>Order Date</th>\n",
       "      <th>Purchase Address</th>\n",
       "    </tr>\n",
       "  </thead>\n",
       "  <tbody>\n",
       "    <tr>\n",
       "      <th>0</th>\n",
       "      <td>222910</td>\n",
       "      <td>Apple Airpods Headphones</td>\n",
       "      <td>1</td>\n",
       "      <td>150</td>\n",
       "      <td>07/26/19 16:51</td>\n",
       "      <td>389 South St, Atlanta, GA 30301</td>\n",
       "    </tr>\n",
       "    <tr>\n",
       "      <th>1</th>\n",
       "      <td>222911</td>\n",
       "      <td>Flatscreen TV</td>\n",
       "      <td>1</td>\n",
       "      <td>300</td>\n",
       "      <td>07/05/19 08:55</td>\n",
       "      <td>590 4th St, Seattle, WA 98101</td>\n",
       "    </tr>\n",
       "    <tr>\n",
       "      <th>2</th>\n",
       "      <td>222912</td>\n",
       "      <td>AA Batteries (4-pack)</td>\n",
       "      <td>1</td>\n",
       "      <td>3.84</td>\n",
       "      <td>07/29/19 12:41</td>\n",
       "      <td>861 Hill St, Atlanta, GA 30301</td>\n",
       "    </tr>\n",
       "    <tr>\n",
       "      <th>3</th>\n",
       "      <td>222913</td>\n",
       "      <td>AA Batteries (4-pack)</td>\n",
       "      <td>1</td>\n",
       "      <td>3.84</td>\n",
       "      <td>07/28/19 10:15</td>\n",
       "      <td>190 Ridge St, Atlanta, GA 30301</td>\n",
       "    </tr>\n",
       "    <tr>\n",
       "      <th>4</th>\n",
       "      <td>222914</td>\n",
       "      <td>AAA Batteries (4-pack)</td>\n",
       "      <td>5</td>\n",
       "      <td>2.99</td>\n",
       "      <td>07/31/19 02:13</td>\n",
       "      <td>824 Forest St, Seattle, WA 98101</td>\n",
       "    </tr>\n",
       "  </tbody>\n",
       "</table>\n",
       "</div>"
      ],
      "text/plain": [
       "  Order ID                   Product Quantity Ordered Price Each  \\\n",
       "0   222910  Apple Airpods Headphones                1        150   \n",
       "1   222911             Flatscreen TV                1        300   \n",
       "2   222912     AA Batteries (4-pack)                1       3.84   \n",
       "3   222913     AA Batteries (4-pack)                1       3.84   \n",
       "4   222914    AAA Batteries (4-pack)                5       2.99   \n",
       "\n",
       "       Order Date                  Purchase Address  \n",
       "0  07/26/19 16:51   389 South St, Atlanta, GA 30301  \n",
       "1  07/05/19 08:55     590 4th St, Seattle, WA 98101  \n",
       "2  07/29/19 12:41    861 Hill St, Atlanta, GA 30301  \n",
       "3  07/28/19 10:15   190 Ridge St, Atlanta, GA 30301  \n",
       "4  07/31/19 02:13  824 Forest St, Seattle, WA 98101  "
      ]
     },
     "execution_count": 3,
     "metadata": {},
     "output_type": "execute_result"
    }
   ],
   "source": [
    "all_data = pd.read_csv('all_sales.csv')\n",
    "all_data.head()"
   ]
  },
  {
   "cell_type": "markdown",
   "id": "3a1cb203",
   "metadata": {},
   "source": [
    "Initiate Data cleansing"
   ]
  },
  {
   "cell_type": "markdown",
   "id": "72a5804d",
   "metadata": {},
   "source": [
    "Check For Nan Row\n"
   ]
  },
  {
   "cell_type": "code",
   "execution_count": 4,
   "id": "2ca00e8a",
   "metadata": {},
   "outputs": [
    {
     "data": {
      "text/html": [
       "<div>\n",
       "<style scoped>\n",
       "    .dataframe tbody tr th:only-of-type {\n",
       "        vertical-align: middle;\n",
       "    }\n",
       "\n",
       "    .dataframe tbody tr th {\n",
       "        vertical-align: top;\n",
       "    }\n",
       "\n",
       "    .dataframe thead th {\n",
       "        text-align: right;\n",
       "    }\n",
       "</style>\n",
       "<table border=\"1\" class=\"dataframe\">\n",
       "  <thead>\n",
       "    <tr style=\"text-align: right;\">\n",
       "      <th></th>\n",
       "      <th>Order ID</th>\n",
       "      <th>Product</th>\n",
       "      <th>Quantity Ordered</th>\n",
       "      <th>Price Each</th>\n",
       "      <th>Order Date</th>\n",
       "      <th>Purchase Address</th>\n",
       "    </tr>\n",
       "  </thead>\n",
       "  <tbody>\n",
       "    <tr>\n",
       "      <th>199</th>\n",
       "      <td>NaN</td>\n",
       "      <td>NaN</td>\n",
       "      <td>NaN</td>\n",
       "      <td>NaN</td>\n",
       "      <td>NaN</td>\n",
       "      <td>NaN</td>\n",
       "    </tr>\n",
       "    <tr>\n",
       "      <th>315</th>\n",
       "      <td>NaN</td>\n",
       "      <td>NaN</td>\n",
       "      <td>NaN</td>\n",
       "      <td>NaN</td>\n",
       "      <td>NaN</td>\n",
       "      <td>NaN</td>\n",
       "    </tr>\n",
       "    <tr>\n",
       "      <th>599</th>\n",
       "      <td>NaN</td>\n",
       "      <td>NaN</td>\n",
       "      <td>NaN</td>\n",
       "      <td>NaN</td>\n",
       "      <td>NaN</td>\n",
       "      <td>NaN</td>\n",
       "    </tr>\n",
       "    <tr>\n",
       "      <th>675</th>\n",
       "      <td>NaN</td>\n",
       "      <td>NaN</td>\n",
       "      <td>NaN</td>\n",
       "      <td>NaN</td>\n",
       "      <td>NaN</td>\n",
       "      <td>NaN</td>\n",
       "    </tr>\n",
       "    <tr>\n",
       "      <th>1027</th>\n",
       "      <td>NaN</td>\n",
       "      <td>NaN</td>\n",
       "      <td>NaN</td>\n",
       "      <td>NaN</td>\n",
       "      <td>NaN</td>\n",
       "      <td>NaN</td>\n",
       "    </tr>\n",
       "  </tbody>\n",
       "</table>\n",
       "</div>"
      ],
      "text/plain": [
       "     Order ID Product Quantity Ordered Price Each Order Date Purchase Address\n",
       "199       NaN     NaN              NaN        NaN        NaN              NaN\n",
       "315       NaN     NaN              NaN        NaN        NaN              NaN\n",
       "599       NaN     NaN              NaN        NaN        NaN              NaN\n",
       "675       NaN     NaN              NaN        NaN        NaN              NaN\n",
       "1027      NaN     NaN              NaN        NaN        NaN              NaN"
      ]
     },
     "metadata": {},
     "output_type": "display_data"
    }
   ],
   "source": [
    "nan_df = all_data[all_data.isna().any(axis=1)]\n",
    "display(nan_df.head())"
   ]
  },
  {
   "cell_type": "markdown",
   "id": "50e4dd2b",
   "metadata": {},
   "source": [
    "Remove Nan Rows and Values in Date that include Headers from concatenating CSV files "
   ]
  },
  {
   "cell_type": "code",
   "execution_count": 5,
   "id": "e2f44348",
   "metadata": {},
   "outputs": [],
   "source": [
    "all_data = all_data.dropna(how='all')\n",
    "\n",
    "all_data = all_data[all_data['Order Date'].str[0:2]!='Or']"
   ]
  },
  {
   "cell_type": "markdown",
   "id": "6b93f372",
   "metadata": {},
   "source": [
    "Change QTY and Price Each to int\n"
   ]
  },
  {
   "cell_type": "code",
   "execution_count": 6,
   "id": "9ef9e0cb",
   "metadata": {},
   "outputs": [],
   "source": [
    "all_data['Quantity Ordered'] = pd.to_numeric(all_data['Quantity Ordered'])\n",
    "all_data['Price Each'] = pd.to_numeric(all_data['Price Each'])\n"
   ]
  },
  {
   "cell_type": "markdown",
   "id": "6321ff41",
   "metadata": {},
   "source": [
    "\n"
   ]
  },
  {
   "cell_type": "markdown",
   "id": "6981d6cf",
   "metadata": {},
   "source": [
    "### Add Month Column\n"
   ]
  },
  {
   "cell_type": "code",
   "execution_count": 7,
   "id": "762284fd",
   "metadata": {},
   "outputs": [
    {
     "data": {
      "text/html": [
       "<div>\n",
       "<style scoped>\n",
       "    .dataframe tbody tr th:only-of-type {\n",
       "        vertical-align: middle;\n",
       "    }\n",
       "\n",
       "    .dataframe tbody tr th {\n",
       "        vertical-align: top;\n",
       "    }\n",
       "\n",
       "    .dataframe thead th {\n",
       "        text-align: right;\n",
       "    }\n",
       "</style>\n",
       "<table border=\"1\" class=\"dataframe\">\n",
       "  <thead>\n",
       "    <tr style=\"text-align: right;\">\n",
       "      <th></th>\n",
       "      <th>Order ID</th>\n",
       "      <th>Product</th>\n",
       "      <th>Quantity Ordered</th>\n",
       "      <th>Price Each</th>\n",
       "      <th>Order Date</th>\n",
       "      <th>Purchase Address</th>\n",
       "      <th>Month</th>\n",
       "    </tr>\n",
       "  </thead>\n",
       "  <tbody>\n",
       "    <tr>\n",
       "      <th>0</th>\n",
       "      <td>222910</td>\n",
       "      <td>Apple Airpods Headphones</td>\n",
       "      <td>1</td>\n",
       "      <td>150.00</td>\n",
       "      <td>07/26/19 16:51</td>\n",
       "      <td>389 South St, Atlanta, GA 30301</td>\n",
       "      <td>7</td>\n",
       "    </tr>\n",
       "    <tr>\n",
       "      <th>1</th>\n",
       "      <td>222911</td>\n",
       "      <td>Flatscreen TV</td>\n",
       "      <td>1</td>\n",
       "      <td>300.00</td>\n",
       "      <td>07/05/19 08:55</td>\n",
       "      <td>590 4th St, Seattle, WA 98101</td>\n",
       "      <td>7</td>\n",
       "    </tr>\n",
       "    <tr>\n",
       "      <th>2</th>\n",
       "      <td>222912</td>\n",
       "      <td>AA Batteries (4-pack)</td>\n",
       "      <td>1</td>\n",
       "      <td>3.84</td>\n",
       "      <td>07/29/19 12:41</td>\n",
       "      <td>861 Hill St, Atlanta, GA 30301</td>\n",
       "      <td>7</td>\n",
       "    </tr>\n",
       "    <tr>\n",
       "      <th>3</th>\n",
       "      <td>222913</td>\n",
       "      <td>AA Batteries (4-pack)</td>\n",
       "      <td>1</td>\n",
       "      <td>3.84</td>\n",
       "      <td>07/28/19 10:15</td>\n",
       "      <td>190 Ridge St, Atlanta, GA 30301</td>\n",
       "      <td>7</td>\n",
       "    </tr>\n",
       "    <tr>\n",
       "      <th>4</th>\n",
       "      <td>222914</td>\n",
       "      <td>AAA Batteries (4-pack)</td>\n",
       "      <td>5</td>\n",
       "      <td>2.99</td>\n",
       "      <td>07/31/19 02:13</td>\n",
       "      <td>824 Forest St, Seattle, WA 98101</td>\n",
       "      <td>7</td>\n",
       "    </tr>\n",
       "  </tbody>\n",
       "</table>\n",
       "</div>"
      ],
      "text/plain": [
       "  Order ID                   Product  Quantity Ordered           Price Each  \\\n",
       "0   222910  Apple Airpods Headphones                 1               150.00   \n",
       "1   222911             Flatscreen TV                 1               300.00   \n",
       "2   222912     AA Batteries (4-pack)                 1                 3.84   \n",
       "3   222913     AA Batteries (4-pack)                 1                 3.84   \n",
       "4   222914    AAA Batteries (4-pack)                 5                 2.99   \n",
       "\n",
       "       Order Date                  Purchase Address  Month  \n",
       "0  07/26/19 16:51   389 South St, Atlanta, GA 30301      7  \n",
       "1  07/05/19 08:55     590 4th St, Seattle, WA 98101      7  \n",
       "2  07/29/19 12:41    861 Hill St, Atlanta, GA 30301      7  \n",
       "3  07/28/19 10:15   190 Ridge St, Atlanta, GA 30301      7  \n",
       "4  07/31/19 02:13  824 Forest St, Seattle, WA 98101      7  "
      ]
     },
     "execution_count": 7,
     "metadata": {},
     "output_type": "execute_result"
    }
   ],
   "source": [
    "all_data['Month'] = all_data['Order Date'].str[0:2]\n",
    "all_data['Month'] = all_data['Month'].astype('int32')\n",
    "all_data.head()"
   ]
  },
  {
   "cell_type": "code",
   "execution_count": 15,
   "id": "85a57885",
   "metadata": {},
   "outputs": [
    {
     "data": {
      "text/html": [
       "<div>\n",
       "<style scoped>\n",
       "    .dataframe tbody tr th:only-of-type {\n",
       "        vertical-align: middle;\n",
       "    }\n",
       "\n",
       "    .dataframe tbody tr th {\n",
       "        vertical-align: top;\n",
       "    }\n",
       "\n",
       "    .dataframe thead th {\n",
       "        text-align: right;\n",
       "    }\n",
       "</style>\n",
       "<table border=\"1\" class=\"dataframe\">\n",
       "  <thead>\n",
       "    <tr style=\"text-align: right;\">\n",
       "      <th></th>\n",
       "      <th>Order ID</th>\n",
       "      <th>Product</th>\n",
       "      <th>Quantity Ordered</th>\n",
       "      <th>Price Each</th>\n",
       "      <th>Order Date</th>\n",
       "      <th>Purchase Address</th>\n",
       "      <th>Month</th>\n",
       "      <th>City</th>\n",
       "      <th>Gross Sales</th>\n",
       "    </tr>\n",
       "  </thead>\n",
       "  <tbody>\n",
       "    <tr>\n",
       "      <th>0</th>\n",
       "      <td>222910</td>\n",
       "      <td>Apple Airpods Headphones</td>\n",
       "      <td>1</td>\n",
       "      <td>150.00</td>\n",
       "      <td>07/26/19 16:51</td>\n",
       "      <td>389 South St, Atlanta, GA 30301</td>\n",
       "      <td>7</td>\n",
       "      <td>Atlanta  (GA)</td>\n",
       "      <td>150.00</td>\n",
       "    </tr>\n",
       "    <tr>\n",
       "      <th>1</th>\n",
       "      <td>222911</td>\n",
       "      <td>Flatscreen TV</td>\n",
       "      <td>1</td>\n",
       "      <td>300.00</td>\n",
       "      <td>07/05/19 08:55</td>\n",
       "      <td>590 4th St, Seattle, WA 98101</td>\n",
       "      <td>7</td>\n",
       "      <td>Seattle  (WA)</td>\n",
       "      <td>300.00</td>\n",
       "    </tr>\n",
       "    <tr>\n",
       "      <th>2</th>\n",
       "      <td>222912</td>\n",
       "      <td>AA Batteries (4-pack)</td>\n",
       "      <td>1</td>\n",
       "      <td>3.84</td>\n",
       "      <td>07/29/19 12:41</td>\n",
       "      <td>861 Hill St, Atlanta, GA 30301</td>\n",
       "      <td>7</td>\n",
       "      <td>Atlanta  (GA)</td>\n",
       "      <td>3.84</td>\n",
       "    </tr>\n",
       "    <tr>\n",
       "      <th>3</th>\n",
       "      <td>222913</td>\n",
       "      <td>AA Batteries (4-pack)</td>\n",
       "      <td>1</td>\n",
       "      <td>3.84</td>\n",
       "      <td>07/28/19 10:15</td>\n",
       "      <td>190 Ridge St, Atlanta, GA 30301</td>\n",
       "      <td>7</td>\n",
       "      <td>Atlanta  (GA)</td>\n",
       "      <td>3.84</td>\n",
       "    </tr>\n",
       "    <tr>\n",
       "      <th>4</th>\n",
       "      <td>222914</td>\n",
       "      <td>AAA Batteries (4-pack)</td>\n",
       "      <td>5</td>\n",
       "      <td>2.99</td>\n",
       "      <td>07/31/19 02:13</td>\n",
       "      <td>824 Forest St, Seattle, WA 98101</td>\n",
       "      <td>7</td>\n",
       "      <td>Seattle  (WA)</td>\n",
       "      <td>14.95</td>\n",
       "    </tr>\n",
       "  </tbody>\n",
       "</table>\n",
       "</div>"
      ],
      "text/plain": [
       "  Order ID                   Product  Quantity Ordered           Price Each  \\\n",
       "0   222910  Apple Airpods Headphones                 1               150.00   \n",
       "1   222911             Flatscreen TV                 1               300.00   \n",
       "2   222912     AA Batteries (4-pack)                 1                 3.84   \n",
       "3   222913     AA Batteries (4-pack)                 1                 3.84   \n",
       "4   222914    AAA Batteries (4-pack)                 5                 2.99   \n",
       "\n",
       "       Order Date                  Purchase Address  Month           City  \\\n",
       "0  07/26/19 16:51   389 South St, Atlanta, GA 30301      7  Atlanta  (GA)   \n",
       "1  07/05/19 08:55     590 4th St, Seattle, WA 98101      7  Seattle  (WA)   \n",
       "2  07/29/19 12:41    861 Hill St, Atlanta, GA 30301      7  Atlanta  (GA)   \n",
       "3  07/28/19 10:15   190 Ridge St, Atlanta, GA 30301      7  Atlanta  (GA)   \n",
       "4  07/31/19 02:13  824 Forest St, Seattle, WA 98101      7  Seattle  (WA)   \n",
       "\n",
       "           Gross Sales  \n",
       "0               150.00  \n",
       "1               300.00  \n",
       "2                 3.84  \n",
       "3                 3.84  \n",
       "4                14.95  "
      ]
     },
     "execution_count": 15,
     "metadata": {},
     "output_type": "execute_result"
    }
   ],
   "source": [
    "def get_city(address):\n",
    "    return address.split(\",\")[1].strip(\" \")\n",
    "\n",
    "def get_state(address):\n",
    "    return address.split(\",\")[2].split(\" \")[1]\n",
    "\n",
    "all_data['City'] = all_data['Purchase Address'].apply(lambda x: f\"{get_city(x)}  ({get_state(x)})\")\n",
    "all_data.head()\n"
   ]
  },
  {
   "cell_type": "code",
   "execution_count": 9,
   "id": "2ef43a1d",
   "metadata": {},
   "outputs": [],
   "source": [
    "all_data['Gross Sales'] = all_data['Quantity Ordered'] * all_data['Price Each']\n"
   ]
  },
  {
   "cell_type": "code",
   "execution_count": 10,
   "id": "01a92a61",
   "metadata": {
    "scrolled": true
   },
   "outputs": [
    {
     "data": {
      "text/html": [
       "<div>\n",
       "<style scoped>\n",
       "    .dataframe tbody tr th:only-of-type {\n",
       "        vertical-align: middle;\n",
       "    }\n",
       "\n",
       "    .dataframe tbody tr th {\n",
       "        vertical-align: top;\n",
       "    }\n",
       "\n",
       "    .dataframe thead th {\n",
       "        text-align: right;\n",
       "    }\n",
       "</style>\n",
       "<table border=\"1\" class=\"dataframe\">\n",
       "  <thead>\n",
       "    <tr style=\"text-align: right;\">\n",
       "      <th></th>\n",
       "      <th>Order ID</th>\n",
       "      <th>Product</th>\n",
       "      <th>Quantity Ordered</th>\n",
       "      <th>Price Each</th>\n",
       "      <th>Order Date</th>\n",
       "      <th>Purchase Address</th>\n",
       "      <th>Month</th>\n",
       "      <th>City</th>\n",
       "      <th>Gross Sales</th>\n",
       "    </tr>\n",
       "  </thead>\n",
       "  <tbody>\n",
       "    <tr>\n",
       "      <th>0</th>\n",
       "      <td>222910</td>\n",
       "      <td>Apple Airpods Headphones</td>\n",
       "      <td>1</td>\n",
       "      <td>150.00</td>\n",
       "      <td>07/26/19 16:51</td>\n",
       "      <td>389 South St, Atlanta, GA 30301</td>\n",
       "      <td>7</td>\n",
       "      <td>Atlanta  (GA)</td>\n",
       "      <td>150.00</td>\n",
       "    </tr>\n",
       "    <tr>\n",
       "      <th>1</th>\n",
       "      <td>222911</td>\n",
       "      <td>Flatscreen TV</td>\n",
       "      <td>1</td>\n",
       "      <td>300.00</td>\n",
       "      <td>07/05/19 08:55</td>\n",
       "      <td>590 4th St, Seattle, WA 98101</td>\n",
       "      <td>7</td>\n",
       "      <td>Seattle  (WA)</td>\n",
       "      <td>300.00</td>\n",
       "    </tr>\n",
       "    <tr>\n",
       "      <th>2</th>\n",
       "      <td>222912</td>\n",
       "      <td>AA Batteries (4-pack)</td>\n",
       "      <td>1</td>\n",
       "      <td>3.84</td>\n",
       "      <td>07/29/19 12:41</td>\n",
       "      <td>861 Hill St, Atlanta, GA 30301</td>\n",
       "      <td>7</td>\n",
       "      <td>Atlanta  (GA)</td>\n",
       "      <td>3.84</td>\n",
       "    </tr>\n",
       "    <tr>\n",
       "      <th>3</th>\n",
       "      <td>222913</td>\n",
       "      <td>AA Batteries (4-pack)</td>\n",
       "      <td>1</td>\n",
       "      <td>3.84</td>\n",
       "      <td>07/28/19 10:15</td>\n",
       "      <td>190 Ridge St, Atlanta, GA 30301</td>\n",
       "      <td>7</td>\n",
       "      <td>Atlanta  (GA)</td>\n",
       "      <td>3.84</td>\n",
       "    </tr>\n",
       "    <tr>\n",
       "      <th>4</th>\n",
       "      <td>222914</td>\n",
       "      <td>AAA Batteries (4-pack)</td>\n",
       "      <td>5</td>\n",
       "      <td>2.99</td>\n",
       "      <td>07/31/19 02:13</td>\n",
       "      <td>824 Forest St, Seattle, WA 98101</td>\n",
       "      <td>7</td>\n",
       "      <td>Seattle  (WA)</td>\n",
       "      <td>14.95</td>\n",
       "    </tr>\n",
       "  </tbody>\n",
       "</table>\n",
       "</div>"
      ],
      "text/plain": [
       "  Order ID                   Product  Quantity Ordered           Price Each  \\\n",
       "0   222910  Apple Airpods Headphones                 1               150.00   \n",
       "1   222911             Flatscreen TV                 1               300.00   \n",
       "2   222912     AA Batteries (4-pack)                 1                 3.84   \n",
       "3   222913     AA Batteries (4-pack)                 1                 3.84   \n",
       "4   222914    AAA Batteries (4-pack)                 5                 2.99   \n",
       "\n",
       "       Order Date                  Purchase Address  Month           City  \\\n",
       "0  07/26/19 16:51   389 South St, Atlanta, GA 30301      7  Atlanta  (GA)   \n",
       "1  07/05/19 08:55     590 4th St, Seattle, WA 98101      7  Seattle  (WA)   \n",
       "2  07/29/19 12:41    861 Hill St, Atlanta, GA 30301      7  Atlanta  (GA)   \n",
       "3  07/28/19 10:15   190 Ridge St, Atlanta, GA 30301      7  Atlanta  (GA)   \n",
       "4  07/31/19 02:13  824 Forest St, Seattle, WA 98101      7  Seattle  (WA)   \n",
       "\n",
       "           Gross Sales  \n",
       "0               150.00  \n",
       "1               300.00  \n",
       "2                 3.84  \n",
       "3                 3.84  \n",
       "4                14.95  "
      ]
     },
     "execution_count": 10,
     "metadata": {},
     "output_type": "execute_result"
    }
   ],
   "source": [
    "all_data.head()"
   ]
  },
  {
   "cell_type": "code",
   "execution_count": 107,
   "id": "f6483a82",
   "metadata": {},
   "outputs": [
    {
     "name": "stderr",
     "output_type": "stream",
     "text": [
      "<ipython-input-107-d871241d22e9>:18: UserWarning: FixedFormatter should only be used together with FixedLocator\n",
      "  ax1.set_xticklabels(keys, rotation='vertical', size=12)\n"
     ]
    },
    {
     "data": {
      "text/plain": [
       "[Text(0, 0, '20in Monitor'),\n",
       " Text(1, 0, '27in 4K Gaming Monitor'),\n",
       " Text(2, 0, '27in FHD Monitor'),\n",
       " Text(3, 0, '34in Ultrawide Monitor'),\n",
       " Text(4, 0, 'AA Batteries (4-pack)'),\n",
       " Text(5, 0, 'AAA Batteries (4-pack)'),\n",
       " Text(6, 0, 'Apple Airpods Headphones'),\n",
       " Text(7, 0, 'Bose SoundSport Headphones'),\n",
       " Text(8, 0, 'Flatscreen TV'),\n",
       " Text(9, 0, 'Google Phone'),\n",
       " Text(10, 0, 'LG Dryer'),\n",
       " Text(11, 0, 'LG Washing Machine'),\n",
       " Text(12, 0, 'Lightning Charging Cable'),\n",
       " Text(13, 0, 'Macbook Pro Laptop'),\n",
       " Text(14, 0, 'ThinkPad Laptop'),\n",
       " Text(15, 0, 'USB-C Charging Cable'),\n",
       " Text(16, 0, 'Vareebadd Phone'),\n",
       " Text(17, 0, 'Wired Headphones'),\n",
       " Text(18, 0, 'iPhone')]"
      ]
     },
     "execution_count": 107,
     "metadata": {},
     "output_type": "execute_result"
    },
    {
     "data": {
      "image/png": "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\n",
      "text/plain": [
       "<Figure size 864x576 with 2 Axes>"
      ]
     },
     "metadata": {
      "needs_background": "light"
     },
     "output_type": "display_data"
    }
   ],
   "source": [
    "\n",
    "\n",
    "product_group = all_data.groupby('Product')\n",
    "quantity_ordered = product_group.sum()['Quantity Ordered']\n",
    "\n",
    "\n",
    "prices = all_data.groupby('Product').mean()['Price Each']\n",
    "keys = [pair for pair, df in product_group]\n",
    "\n",
    "\n",
    "fig, ax1 = plt.subplots()\n",
    "\n",
    "ax2 = ax1.twinx()\n",
    "ax1.bar(keys, quantity_ordered, color='b')\n",
    "ax2.plot(keys, prices, color='r', linewidth=4.0)\n",
    "\n",
    "ax1.set_xlabel('Product Name',size=20)\n",
    "ax1.set_ylabel('Quantity Ordered', color='b',size=15)\n",
    "ax2.set_ylabel('Price ($)', color='r',size=15)\n",
    "ax1.set_xticklabels(keys, rotation='vertical', size=12)"
   ]
  },
  {
   "cell_type": "code",
   "execution_count": 11,
   "id": "43fc2b35",
   "metadata": {},
   "outputs": [
    {
     "data": {
      "text/plain": [
       "Month\n",
       "1            1,822,256.73\n",
       "2            2,202,022.42\n",
       "3            2,807,100.38\n",
       "4            3,390,670.24\n",
       "5            3,152,606.75\n",
       "6            2,577,802.26\n",
       "7            2,647,775.76\n",
       "8            2,244,467.88\n",
       "9            2,097,560.13\n",
       "10           3,736,726.88\n",
       "11           3,199,603.20\n",
       "12           4,613,443.34\n",
       "Name: Gross Sales, dtype: float64"
      ]
     },
     "execution_count": 11,
     "metadata": {},
     "output_type": "execute_result"
    }
   ],
   "source": [
    "months = range(1,13)\n",
    "\n",
    "results = all_data.groupby('Month')['Gross Sales'].sum()\n",
    "\n",
    "results.head(12)"
   ]
  },
  {
   "cell_type": "code",
   "execution_count": 17,
   "id": "08d4a8b1",
   "metadata": {},
   "outputs": [
    {
     "data": {
      "image/png": "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\n",
      "text/plain": [
       "<Figure size 864x576 with 1 Axes>"
      ]
     },
     "metadata": {
      "needs_background": "light"
     },
     "output_type": "display_data"
    }
   ],
   "source": [
    "plt.bar(months,results)\n",
    "plt.xticks(months)\n",
    "plt.ylabel('Sales in USD ($)')\n",
    "plt.xlabel('Month')\n",
    "plt.ticklabel_format(style='plain') \n",
    "\n"
   ]
  },
  {
   "cell_type": "code",
   "execution_count": 30,
   "id": "d1de8faf",
   "metadata": {},
   "outputs": [
    {
     "data": {
      "image/png": "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\n",
      "text/plain": [
       "<Figure size 864x576 with 1 Axes>"
      ]
     },
     "metadata": {
      "needs_background": "light"
     },
     "output_type": "display_data"
    }
   ],
   "source": [
    "CityName = [city for city, df in all_data.groupby(['City'])]\n",
    "\n",
    "plt.bar(CityName,all_data.groupby(['City']).sum()['Gross Sales'])\n",
    "plt.xticks(CityName, rotation='vertical')\n",
    "plt.ylabel('Sales in USD ($)')\n",
    "plt.xlabel('CityName')\n",
    "plt.ticklabel_format(style='plain', axis='y')\n",
    "\n"
   ]
  },
  {
   "cell_type": "code",
   "execution_count": 34,
   "id": "b96c593d",
   "metadata": {},
   "outputs": [],
   "source": [
    "all_data['Order Date'] = pd.to_datetime(all_data['Order Date'])"
   ]
  },
  {
   "cell_type": "code",
   "execution_count": 38,
   "id": "8fdba7fa",
   "metadata": {},
   "outputs": [
    {
     "data": {
      "text/html": [
       "<div>\n",
       "<style scoped>\n",
       "    .dataframe tbody tr th:only-of-type {\n",
       "        vertical-align: middle;\n",
       "    }\n",
       "\n",
       "    .dataframe tbody tr th {\n",
       "        vertical-align: top;\n",
       "    }\n",
       "\n",
       "    .dataframe thead th {\n",
       "        text-align: right;\n",
       "    }\n",
       "</style>\n",
       "<table border=\"1\" class=\"dataframe\">\n",
       "  <thead>\n",
       "    <tr style=\"text-align: right;\">\n",
       "      <th></th>\n",
       "      <th>Order ID</th>\n",
       "      <th>Product</th>\n",
       "      <th>Quantity Ordered</th>\n",
       "      <th>Price Each</th>\n",
       "      <th>Order Date</th>\n",
       "      <th>Purchase Address</th>\n",
       "      <th>Month</th>\n",
       "      <th>City</th>\n",
       "      <th>Gross Sales</th>\n",
       "      <th>Hour</th>\n",
       "      <th>Minute</th>\n",
       "    </tr>\n",
       "  </thead>\n",
       "  <tbody>\n",
       "    <tr>\n",
       "      <th>0</th>\n",
       "      <td>222910</td>\n",
       "      <td>Apple Airpods Headphones</td>\n",
       "      <td>1</td>\n",
       "      <td>150.00</td>\n",
       "      <td>2019-07-26 16:51:00</td>\n",
       "      <td>389 South St, Atlanta, GA 30301</td>\n",
       "      <td>7</td>\n",
       "      <td>Atlanta  (GA)</td>\n",
       "      <td>150.00</td>\n",
       "      <td>16</td>\n",
       "      <td>51</td>\n",
       "    </tr>\n",
       "    <tr>\n",
       "      <th>1</th>\n",
       "      <td>222911</td>\n",
       "      <td>Flatscreen TV</td>\n",
       "      <td>1</td>\n",
       "      <td>300.00</td>\n",
       "      <td>2019-07-05 08:55:00</td>\n",
       "      <td>590 4th St, Seattle, WA 98101</td>\n",
       "      <td>7</td>\n",
       "      <td>Seattle  (WA)</td>\n",
       "      <td>300.00</td>\n",
       "      <td>8</td>\n",
       "      <td>55</td>\n",
       "    </tr>\n",
       "    <tr>\n",
       "      <th>2</th>\n",
       "      <td>222912</td>\n",
       "      <td>AA Batteries (4-pack)</td>\n",
       "      <td>1</td>\n",
       "      <td>3.84</td>\n",
       "      <td>2019-07-29 12:41:00</td>\n",
       "      <td>861 Hill St, Atlanta, GA 30301</td>\n",
       "      <td>7</td>\n",
       "      <td>Atlanta  (GA)</td>\n",
       "      <td>3.84</td>\n",
       "      <td>12</td>\n",
       "      <td>41</td>\n",
       "    </tr>\n",
       "    <tr>\n",
       "      <th>3</th>\n",
       "      <td>222913</td>\n",
       "      <td>AA Batteries (4-pack)</td>\n",
       "      <td>1</td>\n",
       "      <td>3.84</td>\n",
       "      <td>2019-07-28 10:15:00</td>\n",
       "      <td>190 Ridge St, Atlanta, GA 30301</td>\n",
       "      <td>7</td>\n",
       "      <td>Atlanta  (GA)</td>\n",
       "      <td>3.84</td>\n",
       "      <td>10</td>\n",
       "      <td>15</td>\n",
       "    </tr>\n",
       "    <tr>\n",
       "      <th>4</th>\n",
       "      <td>222914</td>\n",
       "      <td>AAA Batteries (4-pack)</td>\n",
       "      <td>5</td>\n",
       "      <td>2.99</td>\n",
       "      <td>2019-07-31 02:13:00</td>\n",
       "      <td>824 Forest St, Seattle, WA 98101</td>\n",
       "      <td>7</td>\n",
       "      <td>Seattle  (WA)</td>\n",
       "      <td>14.95</td>\n",
       "      <td>2</td>\n",
       "      <td>13</td>\n",
       "    </tr>\n",
       "  </tbody>\n",
       "</table>\n",
       "</div>"
      ],
      "text/plain": [
       "  Order ID                   Product  Quantity Ordered           Price Each  \\\n",
       "0   222910  Apple Airpods Headphones                 1               150.00   \n",
       "1   222911             Flatscreen TV                 1               300.00   \n",
       "2   222912     AA Batteries (4-pack)                 1                 3.84   \n",
       "3   222913     AA Batteries (4-pack)                 1                 3.84   \n",
       "4   222914    AAA Batteries (4-pack)                 5                 2.99   \n",
       "\n",
       "           Order Date                  Purchase Address  Month           City  \\\n",
       "0 2019-07-26 16:51:00   389 South St, Atlanta, GA 30301      7  Atlanta  (GA)   \n",
       "1 2019-07-05 08:55:00     590 4th St, Seattle, WA 98101      7  Seattle  (WA)   \n",
       "2 2019-07-29 12:41:00    861 Hill St, Atlanta, GA 30301      7  Atlanta  (GA)   \n",
       "3 2019-07-28 10:15:00   190 Ridge St, Atlanta, GA 30301      7  Atlanta  (GA)   \n",
       "4 2019-07-31 02:13:00  824 Forest St, Seattle, WA 98101      7  Seattle  (WA)   \n",
       "\n",
       "           Gross Sales  Hour  Minute  \n",
       "0               150.00    16      51  \n",
       "1               300.00     8      55  \n",
       "2                 3.84    12      41  \n",
       "3                 3.84    10      15  \n",
       "4                14.95     2      13  "
      ]
     },
     "execution_count": 38,
     "metadata": {},
     "output_type": "execute_result"
    }
   ],
   "source": [
    "all_data['Hour'] = all_data['Order Date'].dt.hour\n",
    "all_data['Minute'] = all_data['Order Date'].dt.minute\n",
    "all_data.head()\n"
   ]
  },
  {
   "cell_type": "code",
   "execution_count": 63,
   "id": "907d75c2",
   "metadata": {},
   "outputs": [
    {
     "data": {
      "image/png": "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\n",
      "text/plain": [
       "<Figure size 864x576 with 1 Axes>"
      ]
     },
     "metadata": {
      "needs_background": "light"
     },
     "output_type": "display_data"
    }
   ],
   "source": [
    "hours = [hour for hour, df in all_data.groupby('Hour')]\n",
    "\n",
    "\n",
    "plt.plot(hours, all_data.groupby(['Hour']).count(),color='g', linewidth=3.0)\n",
    "plt.xticks(hours)\n",
    "plt.xlabel('Hour')\n",
    "plt.grid(visible =True)\n"
   ]
  },
  {
   "cell_type": "markdown",
   "id": "eeb34ef6",
   "metadata": {},
   "source": [
    "## Which Products are often sold together?\n"
   ]
  },
  {
   "cell_type": "code",
   "execution_count": 80,
   "id": "f31f7ba5",
   "metadata": {},
   "outputs": [
    {
     "data": {
      "text/html": [
       "<div>\n",
       "<style scoped>\n",
       "    .dataframe tbody tr th:only-of-type {\n",
       "        vertical-align: middle;\n",
       "    }\n",
       "\n",
       "    .dataframe tbody tr th {\n",
       "        vertical-align: top;\n",
       "    }\n",
       "\n",
       "    .dataframe thead th {\n",
       "        text-align: right;\n",
       "    }\n",
       "</style>\n",
       "<table border=\"1\" class=\"dataframe\">\n",
       "  <thead>\n",
       "    <tr style=\"text-align: right;\">\n",
       "      <th></th>\n",
       "      <th>Order ID</th>\n",
       "      <th>Grouped</th>\n",
       "    </tr>\n",
       "  </thead>\n",
       "  <tbody>\n",
       "    <tr>\n",
       "      <th>118</th>\n",
       "      <td>223028</td>\n",
       "      <td>Vareebadd Phone,USB-C Charging Cable,Wired Hea...</td>\n",
       "    </tr>\n",
       "    <tr>\n",
       "      <th>140</th>\n",
       "      <td>223048</td>\n",
       "      <td>Vareebadd Phone,USB-C Charging Cable</td>\n",
       "    </tr>\n",
       "    <tr>\n",
       "      <th>188</th>\n",
       "      <td>223095</td>\n",
       "      <td>Apple Airpods Headphones,AA Batteries (4-pack)</td>\n",
       "    </tr>\n",
       "    <tr>\n",
       "      <th>201</th>\n",
       "      <td>223106</td>\n",
       "      <td>Wired Headphones,Vareebadd Phone</td>\n",
       "    </tr>\n",
       "    <tr>\n",
       "      <th>213</th>\n",
       "      <td>223117</td>\n",
       "      <td>Google Phone,USB-C Charging Cable</td>\n",
       "    </tr>\n",
       "  </tbody>\n",
       "</table>\n",
       "</div>"
      ],
      "text/plain": [
       "    Order ID                                            Grouped\n",
       "118   223028  Vareebadd Phone,USB-C Charging Cable,Wired Hea...\n",
       "140   223048               Vareebadd Phone,USB-C Charging Cable\n",
       "188   223095     Apple Airpods Headphones,AA Batteries (4-pack)\n",
       "201   223106                   Wired Headphones,Vareebadd Phone\n",
       "213   223117                  Google Phone,USB-C Charging Cable"
      ]
     },
     "execution_count": 80,
     "metadata": {},
     "output_type": "execute_result"
    }
   ],
   "source": [
    "dupe = all_data[all_data['Order ID'].duplicated(keep=False)]\n",
    "\n",
    "dupe['Grouped'] = dupe.groupby('Order ID')['Product'].transform(lambda x:','.join(x))\n",
    "\n",
    "dupe = dupe[['Order ID','Grouped']].drop_duplicates()\n",
    "dupe.head()"
   ]
  },
  {
   "cell_type": "code",
   "execution_count": 92,
   "id": "0a57691f",
   "metadata": {},
   "outputs": [
    {
     "name": "stdout",
     "output_type": "stream",
     "text": [
      "('iPhone', 'Lightning Charging Cable') 1005\n",
      "('Google Phone', 'USB-C Charging Cable') 987\n",
      "('iPhone', 'Wired Headphones') 447\n",
      "('Google Phone', 'Wired Headphones') 414\n",
      "('Vareebadd Phone', 'USB-C Charging Cable') 361\n",
      "('iPhone', 'Apple Airpods Headphones') 360\n",
      "('Google Phone', 'Bose SoundSport Headphones') 220\n",
      "('USB-C Charging Cable', 'Wired Headphones') 160\n",
      "('Vareebadd Phone', 'Wired Headphones') 143\n",
      "('Lightning Charging Cable', 'Wired Headphones') 92\n",
      "('Lightning Charging Cable', 'Apple Airpods Headphones') 81\n",
      "('Vareebadd Phone', 'Bose SoundSport Headphones') 80\n",
      "('USB-C Charging Cable', 'Bose SoundSport Headphones') 77\n",
      "('Apple Airpods Headphones', 'Wired Headphones') 69\n",
      "('Lightning Charging Cable', 'USB-C Charging Cable') 58\n",
      "('Lightning Charging Cable', 'AA Batteries (4-pack)') 55\n",
      "('Lightning Charging Cable', 'Lightning Charging Cable') 54\n",
      "('Bose SoundSport Headphones', 'Wired Headphones') 53\n",
      "('AA Batteries (4-pack)', 'Lightning Charging Cable') 51\n",
      "('AAA Batteries (4-pack)', 'USB-C Charging Cable') 50\n",
      "('AA Batteries (4-pack)', 'AAA Batteries (4-pack)') 48\n",
      "('AAA Batteries (4-pack)', 'AAA Batteries (4-pack)') 48\n",
      "('USB-C Charging Cable', 'USB-C Charging Cable') 48\n",
      "('Apple Airpods Headphones', 'AAA Batteries (4-pack)') 48\n",
      "('Wired Headphones', 'USB-C Charging Cable') 45\n"
     ]
    }
   ],
   "source": [
    "from itertools import combinations\n",
    "from collections import Counter\n",
    "\n",
    "\n",
    "count = Counter()\n",
    "\n",
    "for row in dupe['Grouped']:\n",
    "    row_list = row.split(',')\n",
    "    count.update(Counter(combinations(row_list,2)))\n",
    "\n",
    "    \n",
    "\n",
    "for key, value in count.most_common(25):\n",
    "    print(key, value)\n",
    "\n"
   ]
  },
  {
   "cell_type": "code",
   "execution_count": null,
   "id": "90869596",
   "metadata": {},
   "outputs": [],
   "source": []
  }
 ],
 "metadata": {
  "kernelspec": {
   "display_name": "Python 3 (ipykernel)",
   "language": "python",
   "name": "python3"
  },
  "language_info": {
   "codemirror_mode": {
    "name": "ipython",
    "version": 3
   },
   "file_extension": ".py",
   "mimetype": "text/x-python",
   "name": "python",
   "nbconvert_exporter": "python",
   "pygments_lexer": "ipython3",
   "version": "3.8.8"
  }
 },
 "nbformat": 4,
 "nbformat_minor": 5
}
